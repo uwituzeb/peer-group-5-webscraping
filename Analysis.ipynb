{
 "cells": [
  {
   "cell_type": "code",
   "execution_count": null,
   "metadata": {},
   "outputs": [
    {
     "ename": "",
     "evalue": "",
     "output_type": "error",
     "traceback": [
      "\u001b[1;31mRunning cells with 'myenv (Python 3.12.2)' requires the ipykernel package.\n",
      "\u001b[1;31mRun the following command to install 'ipykernel' into the Python environment. \n",
      "\u001b[1;31mCommand: 'c:/Users/HOSA.LTD/peer-group-5-webscraping/myenv/Scripts/python.exe -m pip install ipykernel -U --force-reinstall'"
     ]
    }
   ],
   "source": [
    "import pandas as pd\n",
    "import matplotlib.pyplot as plt\n",
    "\n",
    "# Load dataset\n",
    "df = pd.read_csv(\"ebay_cars.csv\", encoding=\"utf-8\")\n",
    "\n",
    "# Function to clean price values\n",
    "def clean_price(price):\n",
    "    price = str(price).replace(\"$\", \"\").replace(\",\", \"\").strip()  # Remove symbols and whitespace\n",
    "    if \"to\" in price:\n",
    "        try:\n",
    "            low, high = map(float, price.split(\"to\"))\n",
    "            return (low + high) / 2  # Average for range prices\n",
    "        except ValueError:\n",
    "            return None\n",
    "    else:\n",
    "        try:\n",
    "            return float(price)\n",
    "        except ValueError:\n",
    "            return None\n",
    "\n",
    "# Apply cleaning function\n",
    "df[\"price\"] = df[\"price\"].astype(str).apply(clean_price)\n",
    "\n",
    "# Drop NaN values in the 'price' column\n",
    "df = df.dropna(subset=[\"price\"]).reset_index(drop=True)\n",
    "\n",
    "# Remove extreme outliers (e.g., prices > 100,000)\n",
    "df = df[df[\"price\"] < 100000]\n",
    "\n",
    "# Plot histogram\n",
    "plt.figure(figsize=(10, 5))\n",
    "plt.hist(df[\"price\"], bins=20, edgecolor=\"black\")\n",
    "plt.xlabel(\"Price in $\")\n",
    "plt.ylabel(\"Number of Products\")\n",
    "plt.title(\"Price Distribution of eBay Cars\")\n",
    "plt.grid(axis=\"y\", linestyle=\"--\", alpha=0.7)\n",
    "plt.show()\n",
    "\n",
    "# Display summary statistics\n",
    "print(df[\"price\"].describe())\n"
   ]
  }
 ],
 "metadata": {
  "kernelspec": {
   "display_name": "myenv",
   "language": "python",
   "name": "python3"
  },
  "language_info": {
   "codemirror_mode": {
    "name": "ipython",
    "version": 3
   },
   "file_extension": ".py",
   "mimetype": "text/x-python",
   "name": "python",
   "nbconvert_exporter": "python",
   "pygments_lexer": "ipython3",
   "version": "3.12.2"
  }
 },
 "nbformat": 4,
 "nbformat_minor": 2
}
